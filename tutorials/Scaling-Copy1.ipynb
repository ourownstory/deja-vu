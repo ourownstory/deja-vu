{
 "cells": [
  {
   "cell_type": "code",
   "execution_count": 1,
   "metadata": {},
   "outputs": [],
   "source": [
    "import pandas as pd\n",
    "import numpy as np\n",
    "import plotly.graph_objects as go\n",
    "from sklearn.preprocessing import StandardScaler, PowerTransformer\n",
    "\n",
    "from tot.datasets.dataset import Dataset\n",
    "from tot.models.models_darts import RandomForestModel, LinearRegressionModel\n",
    "from tot.models.models_neuralprophet import NeuralProphetModel\n",
    "from tot.benchmark import SimpleBenchmark\n",
    "from tot.plotting import plot_plotly"
   ]
  },
  {
   "cell_type": "code",
   "execution_count": 2,
   "metadata": {},
   "outputs": [],
   "source": [
    "data_location = \"https://raw.githubusercontent.com/ourownstory/neuralprophet-data/main/datasets/\"\n",
    "df_ercot = pd.read_csv(data_location + \"multivariate/load_ercot_regions.csv\")"
   ]
  },
  {
   "cell_type": "code",
   "execution_count": 3,
   "metadata": {},
   "outputs": [],
   "source": [
    "regions = list(df_ercot)[1:]"
   ]
  },
  {
   "cell_type": "code",
   "execution_count": 4,
   "metadata": {},
   "outputs": [],
   "source": [
    "df_global = pd.DataFrame()\n",
    "for col in regions:\n",
    "    aux = df_ercot[[\"ds\", col]].copy(deep=True)  \n",
    "    aux = aux.copy(deep=True) \n",
    "    aux = aux.iloc[:26301, :].copy(deep=True) \n",
    "    aux = aux.rename(columns={col: \"y\"})\n",
    "    aux[\"ID\"] = col\n",
    "    df_global = pd.concat((df_global, aux))"
   ]
  },
  {
   "cell_type": "code",
   "execution_count": 5,
   "metadata": {},
   "outputs": [],
   "source": [
    "dataset_list = [\n",
    "    Dataset(df=df_global, name=\"df_global\", freq=\"H\"),\n",
    "]"
   ]
  },
  {
   "cell_type": "code",
   "execution_count": 6,
   "metadata": {},
   "outputs": [],
   "source": [
    "N_FORECASTS = 1\n",
    "LR = 0.01\n",
    "EPOCHS = 20"
   ]
  },
  {
   "cell_type": "code",
   "execution_count": 7,
   "metadata": {},
   "outputs": [],
   "source": [
    "model_classes_and_params = [\n",
    "#     (RandomForestModel, {\"scaler\": StandardScaler, \"scaling_level\": \"per_dataset\", \"n_forecasts\": N_FORECASTS, \"lags\": 24, \"output_chunk_length\": N_FORECASTS}),\n",
    "#     (RandomForestModel, {\"scaler\": StandardScaler, \"scaling_level\": \"per_time_series\", \"n_forecasts\": N_FORECASTS, \"lags\": 24, \"output_chunk_length\": N_FORECASTS}),\n",
    "    (NeuralProphetModel, {\n",
    "        \"scaler\": StandardScaler(), \n",
    "        \"scaling_level\": \"per_time_series\",\n",
    "        \"n_lags\": 24,\n",
    "        \"n_forecasts\": N_FORECASTS,\n",
    "        \"learning_rate\": LR,\n",
    "        \"epochs\": EPOCHS, \n",
    "        \"normalize\": \"off\", \n",
    "        \"weighted_loss\": True}),\n",
    "    (NeuralProphetModel, {\n",
    "        \"scaler\": StandardScaler(), \n",
    "        \"scaling_level\": \"per_dataset\",\n",
    "        \"n_lags\": 24,\n",
    "        \"n_forecasts\": N_FORECASTS,\n",
    "        \"learning_rate\": LR,\n",
    "        \"epochs\": EPOCHS, \n",
    "        \"normalize\": \"off\"}),\n",
    "    (NeuralProphetModel, {\n",
    "        \"scaler\": StandardScaler(), \n",
    "        \"scaling_level\": \"per_time_series\",\n",
    "        \"n_lags\": 24,\n",
    "        \"n_forecasts\": N_FORECASTS,\n",
    "        \"learning_rate\": LR,\n",
    "        \"epochs\": EPOCHS, \n",
    "        \"normalize\": \"off\"}),\n",
    "    (NeuralProphetModel, {\n",
    "        \"n_lags\": 24,\n",
    "        \"n_forecasts\": N_FORECASTS,\n",
    "        \"learning_rate\": LR,\n",
    "        \"epochs\": EPOCHS, \n",
    "        \"normalize\": \"off\"}),\n",
    "]"
   ]
  },
  {
   "cell_type": "code",
   "execution_count": 8,
   "metadata": {},
   "outputs": [],
   "source": [
    "benchmark = SimpleBenchmark(\n",
    "    model_classes_and_params=model_classes_and_params,\n",
    "    datasets=dataset_list,\n",
    "    metrics=[\"MSE\", \"MASE\"],\n",
    "    test_percentage=0.25,\n",
    ")"
   ]
  },
  {
   "cell_type": "code",
   "execution_count": null,
   "metadata": {},
   "outputs": [
    {
     "name": "stderr",
     "output_type": "stream",
     "text": [
      "3 missing values in column y were detected in total. \n",
      "3 missing values in column y were detected in total. \n",
      "3 missing values in column y were detected in total. \n",
      "3 missing values in column y were detected in total. \n",
      "3 missing values in column y were detected in total. \n",
      "3 missing values in column y were detected in total. \n",
      "3 missing values in column y were detected in total. \n",
      "3 missing values in column y were detected in total. \n",
      "WARNING - (NP.forecaster.fit) - When Global modeling with local normalization, metrics are displayed in normalized scale.\n",
      "INFO - (NP.df_utils._infer_frequency) - Major frequency H corresponds to 99.995% of the data.\n",
      "INFO - (NP.df_utils._infer_frequency) - Defined frequency is equal to major frequency - H\n",
      "INFO - (NP.df_utils._infer_frequency) - Major frequency H corresponds to 99.995% of the data.\n",
      "INFO - (NP.df_utils._infer_frequency) - Defined frequency is equal to major frequency - H\n",
      "INFO - (NP.df_utils._infer_frequency) - Major frequency H corresponds to 99.995% of the data.\n",
      "INFO - (NP.df_utils._infer_frequency) - Defined frequency is equal to major frequency - H\n",
      "INFO - (NP.df_utils._infer_frequency) - Major frequency H corresponds to 99.995% of the data.\n",
      "INFO - (NP.df_utils._infer_frequency) - Defined frequency is equal to major frequency - H\n",
      "INFO - (NP.df_utils._infer_frequency) - Major frequency H corresponds to 99.995% of the data.\n",
      "INFO - (NP.df_utils._infer_frequency) - Defined frequency is equal to major frequency - H\n",
      "INFO - (NP.df_utils._infer_frequency) - Major frequency H corresponds to 99.995% of the data.\n",
      "INFO - (NP.df_utils._infer_frequency) - Defined frequency is equal to major frequency - H\n",
      "INFO - (NP.df_utils._infer_frequency) - Major frequency H corresponds to 99.995% of the data.\n",
      "INFO - (NP.df_utils._infer_frequency) - Defined frequency is equal to major frequency - H\n",
      "INFO - (NP.df_utils._infer_frequency) - Major frequency H corresponds to 99.995% of the data.\n",
      "INFO - (NP.df_utils._infer_frequency) - Defined frequency is equal to major frequency - H\n",
      "INFO - (NP.config.set_auto_batch_epoch) - Auto-set batch_size to 128\n",
      "INFO - (NP.df_utils._infer_frequency) - Major frequency H corresponds to 99.995% of the data.\n",
      "INFO - (NP.df_utils._infer_frequency) - Defined frequency is equal to major frequency - H\n",
      "INFO - (NP.df_utils._infer_frequency) - Major frequency H corresponds to 99.995% of the data.\n",
      "INFO - (NP.df_utils._infer_frequency) - Defined frequency is equal to major frequency - H\n",
      "INFO - (NP.df_utils._infer_frequency) - Major frequency H corresponds to 99.995% of the data.\n",
      "INFO - (NP.df_utils._infer_frequency) - Defined frequency is equal to major frequency - H\n",
      "INFO - (NP.df_utils._infer_frequency) - Major frequency H corresponds to 99.995% of the data.\n",
      "INFO - (NP.df_utils._infer_frequency) - Defined frequency is equal to major frequency - H\n",
      "INFO - (NP.df_utils._infer_frequency) - Major frequency H corresponds to 99.995% of the data.\n",
      "INFO - (NP.df_utils._infer_frequency) - Defined frequency is equal to major frequency - H\n",
      "INFO - (NP.df_utils._infer_frequency) - Major frequency H corresponds to 99.995% of the data.\n",
      "INFO - (NP.df_utils._infer_frequency) - Defined frequency is equal to major frequency - H\n",
      "INFO - (NP.df_utils._infer_frequency) - Major frequency H corresponds to 99.995% of the data.\n",
      "INFO - (NP.df_utils._infer_frequency) - Defined frequency is equal to major frequency - H\n",
      "INFO - (NP.df_utils._infer_frequency) - Major frequency H corresponds to 99.995% of the data.\n",
      "INFO - (NP.df_utils._infer_frequency) - Defined frequency is equal to major frequency - H\n",
      "INFO - (NP.df_utils._infer_frequency) - Major frequency H corresponds to 99.995% of the data.\n",
      "INFO - (NP.df_utils._infer_frequency) - Defined frequency is equal to major frequency - H\n",
      "INFO - (NP.df_utils._infer_frequency) - Major frequency H corresponds to 99.995% of the data.\n",
      "INFO - (NP.df_utils._infer_frequency) - Defined frequency is equal to major frequency - H\n",
      "INFO - (NP.df_utils._infer_frequency) - Major frequency H corresponds to 99.995% of the data.\n",
      "INFO - (NP.df_utils._infer_frequency) - Defined frequency is equal to major frequency - H\n",
      "INFO - (NP.df_utils._infer_frequency) - Major frequency H corresponds to 99.995% of the data.\n",
      "INFO - (NP.df_utils._infer_frequency) - Defined frequency is equal to major frequency - H\n",
      "INFO - (NP.df_utils._infer_frequency) - Major frequency H corresponds to 99.995% of the data.\n",
      "INFO - (NP.df_utils._infer_frequency) - Defined frequency is equal to major frequency - H\n",
      "INFO - (NP.df_utils._infer_frequency) - Major frequency H corresponds to 99.995% of the data.\n",
      "INFO - (NP.df_utils._infer_frequency) - Defined frequency is equal to major frequency - H\n",
      "INFO - (NP.df_utils._infer_frequency) - Major frequency H corresponds to 99.995% of the data.\n",
      "INFO - (NP.df_utils._infer_frequency) - Defined frequency is equal to major frequency - H\n",
      "INFO - (NP.df_utils._infer_frequency) - Major frequency H corresponds to 99.995% of the data.\n",
      "INFO - (NP.df_utils._infer_frequency) - Defined frequency is equal to major frequency - H\n"
     ]
    }
   ],
   "source": [
    "results_train, results_test = benchmark.run(verbose=True)"
   ]
  },
  {
   "cell_type": "code",
   "execution_count": null,
   "metadata": {},
   "outputs": [],
   "source": [
    "results_train"
   ]
  },
  {
   "cell_type": "code",
   "execution_count": null,
   "metadata": {},
   "outputs": [],
   "source": [
    "results_test"
   ]
  },
  {
   "cell_type": "code",
   "execution_count": null,
   "metadata": {},
   "outputs": [],
   "source": [
    "def plot_forecast(df, regions=regions):\n",
    "    fig = go.Figure()\n",
    "\n",
    "    for region in regions:\n",
    "        fig.add_trace(\n",
    "            go.Scatter(\n",
    "                name=region + ' predicted', \n",
    "                x=df[df['ID'] == region]['ds'], \n",
    "                y=df[df['ID'] == region]['yhat1']))\n",
    "        fig.add_trace(\n",
    "            go.Scatter(\n",
    "                name=region + ' actual', \n",
    "                mode=\"markers\",\n",
    "                x=df[df['ID'] == region]['ds'], \n",
    "                y=df[df['ID'] == region]['y']))\n",
    "    fig.show()"
   ]
  },
  {
   "cell_type": "code",
   "execution_count": null,
   "metadata": {
    "scrolled": true
   },
   "outputs": [],
   "source": [
    "plot_forecast(benchmark.fcst_test[0], regions=[\"NORTH_C\", \"WEST\"])"
   ]
  },
  {
   "cell_type": "code",
   "execution_count": null,
   "metadata": {},
   "outputs": [],
   "source": [
    "plot_forecast(benchmark.fcst_test[1], regions=[\"NORTH_C\", \"WEST\"])"
   ]
  },
  {
   "cell_type": "code",
   "execution_count": null,
   "metadata": {},
   "outputs": [],
   "source": []
  },
  {
   "cell_type": "code",
   "execution_count": null,
   "metadata": {},
   "outputs": [],
   "source": []
  }
 ],
 "metadata": {
  "kernelspec": {
   "display_name": "tot",
   "language": "python",
   "name": "tot"
  },
  "language_info": {
   "codemirror_mode": {
    "name": "ipython",
    "version": 3
   },
   "file_extension": ".py",
   "mimetype": "text/x-python",
   "name": "python",
   "nbconvert_exporter": "python",
   "pygments_lexer": "ipython3",
   "version": "3.8.5"
  }
 },
 "nbformat": 4,
 "nbformat_minor": 4
}
