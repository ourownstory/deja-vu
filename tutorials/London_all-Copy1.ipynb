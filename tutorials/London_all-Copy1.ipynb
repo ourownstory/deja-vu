{
 "cells": [
  {
   "cell_type": "code",
   "execution_count": null,
   "metadata": {},
   "outputs": [],
   "source": [
    "import pandas as pd\n",
    "import numpy as np\n",
    "import plotly.graph_objects as go\n",
    "from sklearn.preprocessing import StandardScaler, MinMaxScaler\n",
    "from neuralprophet import set_log_level\n",
    "\n",
    "from tot.datasets.dataset import Dataset\n",
    "from tot.datasets.datasets import LondonEnergyDataset\n",
    "from tot.models.models_darts import RandomForestModel, LinearRegressionModel\n",
    "from tot.models.models_neuralprophet import NeuralProphetModel\n",
    "from tot.benchmark import SimpleBenchmark\n",
    "from tot.plotting import plot_plotly"
   ]
  },
  {
   "cell_type": "code",
   "execution_count": null,
   "metadata": {},
   "outputs": [],
   "source": [
    "set_log_level(\"ERROR\")"
   ]
  },
  {
   "cell_type": "code",
   "execution_count": null,
   "metadata": {},
   "outputs": [],
   "source": [
    "df_london = pd.read_csv(\"../datasets/london_energy.csv\")"
   ]
  },
  {
   "cell_type": "code",
   "execution_count": null,
   "metadata": {},
   "outputs": [],
   "source": [
    "df_london = df_london.iloc[:12846, :].copy(deep=True)"
   ]
  },
  {
   "cell_type": "code",
   "execution_count": null,
   "metadata": {},
   "outputs": [],
   "source": [
    "def plot(df):\n",
    "    fig = go.Figure()\n",
    "\n",
    "    for region in df[\"ID\"].unique():\n",
    "        fig.add_trace(\n",
    "            go.Scatter(\n",
    "                name=region,\n",
    "                x=df[df['ID'] == region]['ds'],\n",
    "                y=df[df['ID'] == region]['y']))\n",
    "    fig.show()"
   ]
  },
  {
   "cell_type": "code",
   "execution_count": null,
   "metadata": {},
   "outputs": [],
   "source": [
    "def filter_ID(df, values):\n",
    "    return df[df.ID.isin(values)]"
   ]
  },
  {
   "cell_type": "code",
   "execution_count": null,
   "metadata": {},
   "outputs": [],
   "source": [
    "plot(df_london)"
   ]
  },
  {
   "cell_type": "code",
   "execution_count": null,
   "metadata": {},
   "outputs": [],
   "source": [
    "dataset_list = [\n",
    "    Dataset(df=df_london, name=\"df_london\", freq=\"H\"),\n",
    "]"
   ]
  },
  {
   "cell_type": "code",
   "execution_count": null,
   "metadata": {},
   "outputs": [],
   "source": [
    "N_FORECASTS = 1\n",
    "LR = 0.01\n",
    "EPOCHS = 20"
   ]
  },
  {
   "cell_type": "code",
   "execution_count": null,
   "metadata": {},
   "outputs": [],
   "source": [
    "model_classes_and_params = [\n",
    "    (NeuralProphetModel, {\n",
    "        \"scaler\": StandardScaler(),\n",
    "        \"scaling_level\": \"per_time_series\",\n",
    "        \"n_lags\": 24,\n",
    "        \"n_forecasts\": N_FORECASTS,\n",
    "        \"learning_rate\": LR,\n",
    "        \"epochs\": EPOCHS,\n",
    "        \"normalize\": \"off\",\n",
    "        \"weighted_loss\": \"avg\"}),\n",
    "    (NeuralProphetModel, {\n",
    "        \"scaler\": StandardScaler(),\n",
    "        \"scaling_level\": \"per_time_series\",\n",
    "        \"n_lags\": 24,\n",
    "        \"n_forecasts\": N_FORECASTS,\n",
    "        \"learning_rate\": LR,\n",
    "        \"epochs\": EPOCHS,\n",
    "        \"normalize\": \"off\",\n",
    "        \"weighted_loss\": \"std\"}),\n",
    "    (NeuralProphetModel, {\n",
    "        \"scaler\": StandardScaler(),\n",
    "        \"scaling_level\": \"per_time_series\",\n",
    "        \"n_lags\": 24,\n",
    "        \"n_forecasts\": N_FORECASTS,\n",
    "        \"learning_rate\": LR,\n",
    "        \"epochs\": EPOCHS,\n",
    "        \"normalize\": \"off\"}),\n",
    "    (NeuralProphetModel, {\n",
    "        \"scaler\": StandardScaler(),\n",
    "        \"scaling_level\": \"per_dataset\",\n",
    "        \"n_lags\": 24,\n",
    "        \"n_forecasts\": N_FORECASTS,\n",
    "        \"learning_rate\": LR,\n",
    "        \"epochs\": EPOCHS,\n",
    "        \"normalize\": \"off\"}),\n",
    "    (NeuralProphetModel, {\n",
    "        \"scaler\": MinMaxScaler(feature_range=(-1, 1)),\n",
    "        \"scaling_level\": \"per_time_series\",\n",
    "        \"n_lags\": 24,\n",
    "        \"n_forecasts\": N_FORECASTS,\n",
    "        \"learning_rate\": LR,\n",
    "        \"epochs\": EPOCHS,\n",
    "        \"normalize\": \"off\",\n",
    "        \"weighted_loss\": \"avg\"}),\n",
    "    (NeuralProphetModel, {\n",
    "        \"scaler\": MinMaxScaler(feature_range=(-1, 1)),\n",
    "        \"scaling_level\": \"per_time_series\",\n",
    "        \"n_lags\": 24,\n",
    "        \"n_forecasts\": N_FORECASTS,\n",
    "        \"learning_rate\": LR,\n",
    "        \"epochs\": EPOCHS,\n",
    "        \"normalize\": \"off\",\n",
    "        \"weighted_loss\": \"std\"}),\n",
    "    (NeuralProphetModel, {\n",
    "        \"scaler\": MinMaxScaler(feature_range=(-1, 1)),\n",
    "        \"scaling_level\": \"per_time_series\",\n",
    "        \"n_lags\": 24,\n",
    "        \"n_forecasts\": N_FORECASTS,\n",
    "        \"learning_rate\": LR,\n",
    "        \"epochs\": EPOCHS,\n",
    "        \"normalize\": \"off\"}),\n",
    "    (NeuralProphetModel, {\n",
    "        \"scaler\": MinMaxScaler(feature_range=(-1, 1)),\n",
    "        \"scaling_level\": \"per_dataset\",\n",
    "        \"n_lags\": 24,\n",
    "        \"n_forecasts\": N_FORECASTS,\n",
    "        \"learning_rate\": LR,\n",
    "        \"epochs\": EPOCHS,\n",
    "        \"normalize\": \"off\"}),\n",
    "    (NeuralProphetModel, {\n",
    "        \"n_lags\": 24,\n",
    "        \"n_forecasts\": N_FORECASTS,\n",
    "        \"learning_rate\": LR,\n",
    "        \"epochs\": EPOCHS,\n",
    "        \"normalize\": \"off\"}),\n",
    "]"
   ]
  },
  {
   "cell_type": "code",
   "execution_count": null,
   "metadata": {},
   "outputs": [],
   "source": [
    "benchmark = SimpleBenchmark(\n",
    "    model_classes_and_params=model_classes_and_params,\n",
    "    datasets=dataset_list,\n",
    "    metrics=[\"MAE\", \"RMSE\", \"MAPE\", \"MASE\"],\n",
    "    test_percentage=0.25,\n",
    ")"
   ]
  },
  {
   "cell_type": "code",
   "execution_count": null,
   "metadata": {},
   "outputs": [],
   "source": [
    "results_train, results_test = benchmark.run(verbose=True)"
   ]
  },
  {
   "cell_type": "code",
   "execution_count": null,
   "metadata": {},
   "outputs": [],
   "source": [
    "results_train"
   ]
  },
  {
   "cell_type": "code",
   "execution_count": null,
   "metadata": {},
   "outputs": [],
   "source": [
    "results_test"
   ]
  },
  {
   "cell_type": "code",
   "execution_count": null,
   "metadata": {},
   "outputs": [],
   "source": [
    "def plot_forecast(df, regions=regions):\n",
    "    fig = go.Figure()\n",
    "\n",
    "    for region in regions:\n",
    "        fig.add_trace(\n",
    "            go.Scatter(\n",
    "                name=region + ' predicted',\n",
    "                mode=\"markers\",\n",
    "                x=df[df['ID'] == region]['ds'],\n",
    "                y=df[df['ID'] == region]['yhat1']))\n",
    "        fig.add_trace(\n",
    "            go.Scatter(\n",
    "                name=region + ' actual',\n",
    "                x=df[df['ID'] == region]['ds'],\n",
    "                y=df[df['ID'] == region]['y']))\n",
    "    fig.show()"
   ]
  },
  {
   "cell_type": "code",
   "execution_count": null,
   "metadata": {
    "scrolled": false
   },
   "outputs": [],
   "source": [
    "plot_forecast(benchmark.fcst_test[0], regions=chosen_regions)"
   ]
  },
  {
   "cell_type": "code",
   "execution_count": null,
   "metadata": {},
   "outputs": [],
   "source": [
    "plot_forecast(benchmark.fcst_test[1], regions=chosen_regions)"
   ]
  },
  {
   "cell_type": "code",
   "execution_count": null,
   "metadata": {},
   "outputs": [],
   "source": [
    "plot_forecast(benchmark.fcst_test[2], regions=chosen_regions)"
   ]
  },
  {
   "cell_type": "code",
   "execution_count": null,
   "metadata": {},
   "outputs": [],
   "source": [
    "plot_forecast(benchmark.fcst_test[3], regions=chosen_regions)"
   ]
  },
  {
   "cell_type": "code",
   "execution_count": null,
   "metadata": {},
   "outputs": [],
   "source": [
    "plot_forecast(benchmark.fcst_test[4], regions=chosen_regions)"
   ]
  },
  {
   "cell_type": "code",
   "execution_count": null,
   "metadata": {},
   "outputs": [],
   "source": [
    "plot_forecast(benchmark.fcst_test[5], regions=chosen_regions)"
   ]
  },
  {
   "cell_type": "code",
   "execution_count": null,
   "metadata": {},
   "outputs": [],
   "source": [
    "plot_forecast(benchmark.fcst_test[6], regions=chosen_regions)"
   ]
  },
  {
   "cell_type": "code",
   "execution_count": null,
   "metadata": {},
   "outputs": [],
   "source": [
    "plot_forecast(benchmark.fcst_test[7], regions=chosen_regions)"
   ]
  },
  {
   "cell_type": "code",
   "execution_count": null,
   "metadata": {},
   "outputs": [],
   "source": [
    "plot_forecast(benchmark.fcst_test[8], regions=chosen_regions)"
   ]
  },
  {
   "cell_type": "code",
   "execution_count": null,
   "metadata": {},
   "outputs": [],
   "source": []
  },
  {
   "cell_type": "code",
   "execution_count": null,
   "metadata": {},
   "outputs": [],
   "source": []
  }
 ],
 "metadata": {
  "kernelspec": {
   "display_name": "tot",
   "language": "python",
   "name": "tot"
  },
  "language_info": {
   "codemirror_mode": {
    "name": "ipython",
    "version": 3
   },
   "file_extension": ".py",
   "mimetype": "text/x-python",
   "name": "python",
   "nbconvert_exporter": "python",
   "pygments_lexer": "ipython3",
   "version": "3.8.5"
  }
 },
 "nbformat": 4,
 "nbformat_minor": 4
}
